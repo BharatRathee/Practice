{
 "cells": [
  {
   "cell_type": "code",
   "execution_count": null,
   "metadata": {},
   "outputs": [],
   "source": [
    "maillist=[\"From stephen.marquard@gmail.com Sat Jan  5 09:14:16 2008\",\n",
    "\"From rahul@nielit.gov.in Sat Jan  5 09:14:16 2008\",\n",
    "\"From stephen.marquard@gmail.com Sat Jan  5 09:14:16 2008\",\n",
    "\"From anita@nielit.gov.in Sat Jan  5 09:14:16 2008\",\n",
    "\"From rajeshkumar@yahoo.com Sat Jan  5 09:14:16 2008\",\n",
    "\"From meenu@yahoo.com Sat Jan  5 09:14:16 2008\",\n",
    "\"From rashmi@rediff.com Sun Jan  5 09:14:16 2008\", \n",
    "\"From rashmi@gmail.com Sun Jan  5 09:14:16 2008\",\n",
    "\"From rash@msn.in Sun Jan  5 09:14:16 2008\" , \n",
    "\"From rash@msn.in Sun Jan  5 09:14:16 2008\"]"
   ]
  },
  {
   "cell_type": "code",
   "execution_count": 16,
   "metadata": {},
   "outputs": [
    {
     "name": "stdout",
     "output_type": "stream",
     "text": [
      "simran@gmail.com\n"
     ]
    },
    {
     "data": {
      "text/plain": [
       "{'aditi': 'aditi@rediff.com',\n",
       " 'anita': 'a.budhiraja@nielit.gov.in',\n",
       " 'himmat': 'himmat@yahoo.com',\n",
       " 'mohit': 'mohit@yahoo.com',\n",
       " 'simran': 'simran@gmail.com'}"
      ]
     },
     "execution_count": 16,
     "metadata": {},
     "output_type": "execute_result"
    }
   ],
   "source": [
    "email={'simran': 'simran@gmail.com',\n",
    "       'aditi' : 'aditi@rediff.com',\n",
    "       'mohit' : 'mohit@yahoo.com',\n",
    "       'himmat' : 'himmat@yahoo.com'}\n",
    "\n",
    "#accessing a dictionary\n",
    "print(email['simran'])\n",
    "#adding a key in a dictionary\n",
    "email['anita']='a.budhiraja@nielit.gov.in'\n",
    "email\n",
    "email['anitas']=anita.yahoo.com''\n",
    "\n"
   ]
  },
  {
   "cell_type": "code",
   "execution_count": null,
   "metadata": {},
   "outputs": [],
   "source": [
    "if 'mohit' in email:\n",
    "    print(email['mohit'])\n",
    "else:\n",
    "    print(\"not present\")"
   ]
  },
  {
   "cell_type": "code",
   "execution_count": 70,
   "metadata": {},
   "outputs": [
    {
     "name": "stdout",
     "output_type": "stream",
     "text": [
      "{'name': 'herry', 'age': 32, 'Email': 'herry@gmail.com'}\n",
      "Enter Name: hina\n",
      "Enter Age:7\n",
      "Email id :a@yahoo.com\n",
      "Enter Name: jina\n",
      "Enter Age:7\n",
      "Email id :a@yahoo.com\n",
      "{'name': 'jina', 'age': 7, 'Email': 'a@yahoo.com'}\n"
     ]
    }
   ],
   "source": [
    "#dictionary \n",
    "dic={\n",
    "    'name':\"herry\",\n",
    "    'age':32,\n",
    "    'Email':\"herry@gmail.com\"\n",
    "}\n",
    "print(dic)\n",
    "# To get input from user \n",
    "x='name'\n",
    "y='age'\n",
    "z='Email'\n",
    "for i in range(2):\n",
    "    a=input(\"Enter Name: \")\n",
    "    b=eval(input(\"Enter Age:\"))\n",
    "    c=input(\"Email id :\")\n",
    "    dic[x]=a\n",
    "    dic[y]=b\n",
    "    dic[z]=c\n",
    "print(dic)"
   ]
  },
  {
   "cell_type": "code",
   "execution_count": 136,
   "metadata": {},
   "outputs": [
    {
     "data": {
      "text/plain": [
       "'This is one'"
      ]
     },
     "execution_count": 136,
     "metadata": {},
     "output_type": "execute_result"
    }
   ],
   "source": [
    "dict = {}\n",
    "dict['one'] = \"This is one\"\n",
    "dict[2]     = \"This is two\"\n",
    "dict['one']\n",
    "\n",
    "\n",
    "dict['one']\n"
   ]
  },
  {
   "cell_type": "code",
   "execution_count": 134,
   "metadata": {},
   "outputs": [
    {
     "name": "stdout",
     "output_type": "stream",
     "text": [
      "There are 4 items in the dict\n"
     ]
    }
   ],
   "source": [
    "ab=[2,3,4,5]\n",
    "print(\"There are {} items in the dict\".format(len(ab)))"
   ]
  },
  {
   "cell_type": "markdown",
   "metadata": {},
   "source": [
    "ab = {  'Swaroop'   : 'swaroop@swaroopch.com',\n",
    "        'Larry'     : 'larry@wall.org',\n",
    "        'Matsumoto' : 'matz@ruby-lang.org',\n",
    "        'Spammer'   : 'spammer@hotmail.com'\n",
    " }\n",
    "print(len(ab))\n",
    "print( \"Swaroop's address is\", ab['Larry'])\n",
    "# Deleting a key-value pair\n",
    "#del ab['Spammer']\n",
    "print(\"\\nThere are {} contacts in the {} address{}-book\\n\".format(len(ab),5,6))\n",
    "\n",
    "ab['anita']='a.budhiraja@nielit.gov.in'\n",
    "\n",
    "for i in range(3):\n",
    "    k=input(\"enter the key\")\n",
    "    v=input(\"enter the value\")\n",
    "    ab[k]=v\n",
    "\n",
    "\n",
    "\n",
    "\n",
    "\n",
    "\n",
    "\n",
    "print(ab)"
   ]
  },
  {
   "cell_type": "code",
   "execution_count": 60,
   "metadata": {},
   "outputs": [
    {
     "name": "stdout",
     "output_type": "stream",
     "text": [
      "1\n"
     ]
    }
   ],
   "source": [
    "d1 = {} #Empty dictionary \n",
    "d2 = {'spam' : 2, 'eggs' : 3}   #Two-item dictionary \n",
    "d3 = {'food' : {'ham' : [1,2,3], 'egg' : 2}}    #Nesting \n",
    "d2['eggs'],\n",
    "print(d3['food']['ham'][-3])\n",
    "\n",
    " "
   ]
  },
  {
   "cell_type": "code",
   "execution_count": 121,
   "metadata": {},
   "outputs": [
    {
     "name": "stdout",
     "output_type": "stream",
     "text": [
      "Enter string:how are you\n",
      "o\n",
      "a\n",
      "e\n",
      "o\n",
      "u\n",
      "Number of vowels are:\n",
      "5\n"
     ]
    }
   ],
   "source": [
    "string=input(\"Enter string:\")\n",
    "vowels=0\n",
    "vowel=\"aeiou\"\n",
    "for i in string:\n",
    "      if i in vowel:\n",
    "            print(i)\n",
    "            vowels=vowels+1\n",
    "print(\"Number of vowels are:\")\n",
    "print(vowels)\n"
   ]
  },
  {
   "cell_type": "code",
   "execution_count": 154,
   "metadata": {},
   "outputs": [
    {
     "name": "stdout",
     "output_type": "stream",
     "text": [
      "{'fname': 'Sonia', 'lname': 'Suri', 'age': 52, 'children': ['anu', 'renu', 'anil'], 'pets': {'dog': 'dubo', 'cat': 'cutie'}, 'friends': {'close': ['anu', 'beena', 'hari', 'rahul'], 'not close': ['meena', 'suman']}}\n"
     ]
    }
   ],
   "source": [
    "person={}\n",
    "person['fname']='Sonia'\n",
    "person['lname']='Suri'\n",
    "person['age']=52\n",
    "person['children']=['anu','renu','anil']\n",
    "person['pets']={'dog': 'dubo','cat' : 'cutie'}\n",
    "person['friends']={'close':['anu','beena','hari','rahul'], 'not close':['meena','suman']}\n",
    "\n",
    "print(person)"
   ]
  },
  {
   "cell_type": "code",
   "execution_count": 148,
   "metadata": {},
   "outputs": [
    {
     "name": "stdout",
     "output_type": "stream",
     "text": [
      "suman\n"
     ]
    }
   ],
   "source": [
    "print(person['friends']['not close'][1])"
   ]
  },
  {
   "cell_type": "code",
   "execution_count": 2,
   "metadata": {},
   "outputs": [
    {
     "name": "stdout",
     "output_type": "stream",
     "text": [
      "renu\n",
      "anu\n"
     ]
    }
   ],
   "source": [
    "print(person['children'][-2])\n",
    "print(person['children'][0])"
   ]
  },
  {
   "cell_type": "code",
   "execution_count": 62,
   "metadata": {},
   "outputs": [
    {
     "name": "stdout",
     "output_type": "stream",
     "text": [
      "dubo\n",
      "{'fname': 'Sonia', 'lname': 'Suri', 'age': 52, 'children': ['anu', 'renu', 'anil'], 'pets': {'dog': 'dubo', 'cat': 'cutie'}, 'friends': {'close': ['anu', 'beena', 'hari', 'rahul'], 'not close': ['meena', 'suman']}}\n",
      "beena\n"
     ]
    }
   ],
   "source": [
    "print(person['pets']['dog'])\n",
    "#print(person['pets'][0])\n",
    "print(person)\n",
    "print(person['friends']['close'][1])"
   ]
  },
  {
   "cell_type": "code",
   "execution_count": 152,
   "metadata": {},
   "outputs": [
    {
     "name": "stdout",
     "output_type": "stream",
     "text": [
      "fname Sonia\n",
      "lname Suri\n",
      "age 52\n",
      "children ['anu', 'renu', 'anil']\n",
      "pets {'dog': 'dubo', 'cat': 'cutie'}\n",
      "friends {'close': ['anu', 'beena', 'hari', 'rahul'], 'not close': ['meena', 'suman']}\n"
     ]
    }
   ],
   "source": [
    "for a,b in person.items()    :\n",
    "    print(a,b)\n",
    "    \n",
    "    \n"
   ]
  },
  {
   "cell_type": "code",
   "execution_count": 159,
   "metadata": {},
   "outputs": [],
   "source": [
    "for k, v in person.items():\n",
    "    if type(v) is dict:\n",
    "        for t, c in v.items():\n",
    "            print(\"the strings are {0} very long {1} sdfsd\".format(16,18))\n",
    "            print( \"{0} : {1}\".format(t, c))"
   ]
  },
  {
   "cell_type": "code",
   "execution_count": null,
   "metadata": {},
   "outputs": [],
   "source": []
  },
  {
   "cell_type": "code",
   "execution_count": 160,
   "metadata": {},
   "outputs": [
    {
     "name": "stdout",
     "output_type": "stream",
     "text": [
      "anu\n",
      "the strings are 12 very long 13\n",
      "renu\n",
      "the strings are 12 very long 13\n",
      "anil\n",
      "the strings are 12 very long 13\n"
     ]
    }
   ],
   "source": [
    "for k, v in person.items():\n",
    "    if type(v) is list:\n",
    "        for t in v:\n",
    "            print( \"{0}\".format(t))\n",
    "            print(\"the strings are {0} very long {1}\".format(12,13))\n",
    "                 "
   ]
  },
  {
   "cell_type": "code",
   "execution_count": null,
   "metadata": {},
   "outputs": [],
   "source": [
    "person={}\n",
    "person['fname']='Sonia'\n",
    "person['lname']='Suri'\n",
    "person['age']=52\n",
    "person['children']=['anu','renu','anil']\n",
    "person['pets']={'dog': 'dubo','cat' : 'cutie'}\n",
    "person['friends']={'close':['anu','beena','hari','rahul'], 'not close':['meena','suman']}\n",
    "print(person)\n",
    "\n",
    "if put a loop in dictionary\n",
    "\n",
    "we have to check if value is a list\n",
    "then put aloop again\n",
    "\n",
    "if it is a dictionaary put a loop"
   ]
  },
  {
   "cell_type": "code",
   "execution_count": 157,
   "metadata": {},
   "outputs": [
    {
     "name": "stdout",
     "output_type": "stream",
     "text": [
      "key is fname\n",
      "value is Sonia\n",
      "key is lname\n",
      "value is Suri\n",
      "key is age\n",
      "value is 52\n",
      "key is children\n",
      "value is ['anu', 'renu', 'anil']\n",
      "anu\n",
      "renu\n",
      "anil\n",
      "key is pets\n",
      "value is {'dog': 'dubo', 'cat': 'cutie'}\n",
      "key is friends\n",
      "value is {'close': ['anu', 'beena', 'hari', 'rahul'], 'not close': ['meena', 'suman']}\n"
     ]
    }
   ],
   "source": [
    "for k, v in person.items():\n",
    "    print(\"key is\",k)\n",
    "    print(\"value is\",v)\n",
    "    \n",
    "    if type(v) is dict:\n",
    "        for t, c in v.items():\n",
    "            print( \"{0} : {1}\".format(t, c))\n",
    "    else:\n",
    "        if type(v) is list:\n",
    "            for t in v:\n",
    "                print( \"{0}\".format(t))\n",
    "        "
   ]
  },
  {
   "cell_type": "code",
   "execution_count": 113,
   "metadata": {},
   "outputs": [
    {
     "name": "stdout",
     "output_type": "stream",
     "text": [
      "1678995520\n",
      "1678995520\n",
      "1678995520\n",
      "1678995680\n"
     ]
    }
   ],
   "source": [
    "a=20 \n",
    "\n",
    "l=l1\n",
    "l1=[1,2,3,4]\n",
    "\n",
    "print(id(a))\n",
    "b=20\n",
    "c=b\n",
    "print(id(c))\n",
    "print(id(b))\n",
    "a=25\n",
    "print(id(a))"
   ]
  },
  {
   "cell_type": "code",
   "execution_count": 165,
   "metadata": {},
   "outputs": [
    {
     "name": "stdout",
     "output_type": "stream",
     "text": [
      "{'the': 2, 'world': 1, 'is': 1, 'suffering': 1, 'disease': 1, 'iscreating': 1, 'panic': 1}\n"
     ]
    }
   ],
   "source": [
    "#successful  {s:3, u:2, c:2, e:1, f:1,l:1  }\n",
    "def histogram(str):\n",
    "    dict={}\n",
    "    for char in str:\n",
    "        if char not in dict:\n",
    "            dict[char]=1\n",
    "        else:\n",
    "            dict[char]= dict[char] + 1    \n",
    "    return dict\n",
    "\n",
    "#global variable\n",
    "def main():\n",
    "    \n",
    "    x1=histogram([\"ME25\": 2, \"world\", \"is\" , \"suffering\", \"the\", \"disease\" , \"is\" \"creating\", \"panic\"])\n",
    "    print(x1)\n",
    " \n",
    "main()\n",
    "\n",
    "ME25, 12.20, 12000\n",
    "MO, @04.56, 20000\n",
    "SA21,\n",
    "SaGA,\n",
    "Me25\n",
    "Saga\n",
    "ME25\n",
    "\n"
   ]
  },
  {
   "cell_type": "markdown",
   "metadata": {},
   "source": [
    "\n",
    "str=\"today is holiday\"\n",
    "\n",
    "{'t': 1, 'o' :2, 'd':2, 'a':2, 'y':2, 'i':2, 'h':0,l:1 }\n",
    "\n",
    "{1: ['t','l'], 2: ['o', 'd','y','i']}\n",
    "\n",
    "\n"
   ]
  },
  {
   "cell_type": "code",
   "execution_count": null,
   "metadata": {},
   "outputs": [],
   "source": [
    "inverse{}\n",
    "{3:['s'],2:['u','c'],1:['e','f','l']}\n"
   ]
  },
  {
   "cell_type": "code",
   "execution_count": 80,
   "metadata": {},
   "outputs": [
    {
     "name": "stdout",
     "output_type": "stream",
     "text": [
      "key s\n",
      "value 3\n",
      "{3: ['s']}\n",
      "key u\n",
      "value 2\n",
      "{3: ['s'], 2: ['u']}\n",
      "key c\n",
      "value 2\n",
      "{3: ['s'], 2: ['u', 'c']}\n",
      "key e\n",
      "value 1\n",
      "{3: ['s'], 2: ['u', 'c'], 1: ['e']}\n",
      "key f\n",
      "value 1\n",
      "{3: ['s'], 2: ['u', 'c'], 1: ['e', 'f']}\n",
      "key l\n",
      "value 1\n",
      "{3: ['s'], 2: ['u', 'c'], 1: ['e', 'f', 'l']}\n"
     ]
    },
    {
     "data": {
      "text/plain": [
       "{1: ['e', 'f', 'l'], 2: ['u', 'c'], 3: ['s']}"
      ]
     },
     "execution_count": 80,
     "metadata": {},
     "output_type": "execute_result"
    }
   ],
   "source": [
    "def inversedict(d):\n",
    "    inverse = {}\n",
    "\n",
    "    for key in d: \n",
    "       #3\n",
    "        val = d[key]  #d['s']\n",
    "        print(\"key\", key)\n",
    "        print(\"value\", val)\n",
    "        if val not in inverse: \n",
    "            inverse[val] = [key]    #key is also being added and value is added as a list element\n",
    "            print(inverse)\n",
    "        else: \n",
    "            inverse[val].append(key) \n",
    "            print(inverse)\n",
    "    return inverse\n",
    "\n",
    "inversedict(x)"
   ]
  },
  {
   "cell_type": "code",
   "execution_count": null,
   "metadata": {},
   "outputs": [],
   "source": []
  },
  {
   "cell_type": "code",
   "execution_count": 8,
   "metadata": {},
   "outputs": [
    {
     "name": "stdout",
     "output_type": "stream",
     "text": [
      "{1: ['h', 'e', 'o', 'n', 'i', 't'], 2: ['l', 'a']}\n"
     ]
    }
   ],
   "source": [
    "y=inversedict(x)\n",
    "print(y)"
   ]
  },
  {
   "cell_type": "code",
   "execution_count": 36,
   "metadata": {},
   "outputs": [
    {
     "name": "stdout",
     "output_type": "stream",
     "text": [
      "h 1\n",
      "e 1\n",
      "l 2\n",
      "o 1\n",
      "a 2\n",
      "n 1\n",
      "i 1\n",
      "t 1\n"
     ]
    }
   ],
   "source": [
    "#printing dictionary line by line\n",
    "def print_hist(h):\n",
    "    for c in h:\n",
    "        print(c,h[c])\n",
    "        \n",
    "print_hist(x) "
   ]
  },
  {
   "cell_type": "code",
   "execution_count": 34,
   "metadata": {},
   "outputs": [
    {
     "name": "stdout",
     "output_type": "stream",
     "text": [
      "[('a', 10), ('b', 20), ('c', 30)]\n"
     ]
    }
   ],
   "source": [
    "\n",
    "#Returns a list of key-value pairs in a dictionary\n",
    "d={'a':10, 'b':20,'c':30}\n",
    "l=list(d.items())\n",
    "print(l)\n",
    "\n"
   ]
  },
  {
   "cell_type": "code",
   "execution_count": 36,
   "metadata": {},
   "outputs": [
    {
     "name": "stdout",
     "output_type": "stream",
     "text": [
      "b\n",
      "20\n"
     ]
    }
   ],
   "source": [
    "k=list(d.items())[1][0]\n",
    "print(k)\n",
    "j=list(d.items())[1][1]\n",
    "print(j)\n"
   ]
  },
  {
   "cell_type": "code",
   "execution_count": 116,
   "metadata": {},
   "outputs": [
    {
     "name": "stdout",
     "output_type": "stream",
     "text": [
      "800\n"
     ]
    }
   ],
   "source": [
    "print(kk)"
   ]
  },
  {
   "cell_type": "code",
   "execution_count": null,
   "metadata": {},
   "outputs": [],
   "source": []
  }
 ],
 "metadata": {
  "kernelspec": {
   "display_name": "Python 3",
   "language": "python",
   "name": "python3"
  },
  "language_info": {
   "codemirror_mode": {
    "name": "ipython",
    "version": 3
   },
   "file_extension": ".py",
   "mimetype": "text/x-python",
   "name": "python",
   "nbconvert_exporter": "python",
   "pygments_lexer": "ipython3",
   "version": "3.8.3"
  }
 },
 "nbformat": 4,
 "nbformat_minor": 2
}
