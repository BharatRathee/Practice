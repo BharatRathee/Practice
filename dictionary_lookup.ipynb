{
 "cells": [
  {
   "cell_type": "markdown",
   "metadata": {},
   "source": [
    "# Creating and manipulating dictionaries"
   ]
  },
  {
   "cell_type": "code",
   "execution_count": 34,
   "metadata": {},
   "outputs": [
    {
     "name": "stdout",
     "output_type": "stream",
     "text": [
      "{'xyz': 123, 'abc': 345}\n",
      "dict_keys(['xyz', 'abc'])\n",
      "dict_values([123, 345])\n",
      "xyz  123\n",
      "abc  345\n",
      "0 xyz 123\n",
      "1 abc 345\n",
      "True\n",
      "False\n"
     ]
    }
   ],
   "source": [
    "# Create a new dictionary \n",
    "d = dict() # or d = {}\n",
    " \n",
    "# Add a key - value pairs to dictionary\n",
    "d['xyz'] = 123\n",
    "d['abc'] = 345\n",
    " \n",
    "# print the whole dictionary\n",
    "print(d)\n",
    " \n",
    "# print only the keys\n",
    "print(d.keys())\n",
    " \n",
    "# print only values\n",
    "print(d.values())\n",
    " \n",
    "# iterate over dictionary \n",
    "for i in d :\n",
    "    print(\"%s  %d\" %(i, d[i]))\n",
    " \n",
    "# another method of iteration\n",
    "for index, value in enumerate(d):\n",
    "    print (index, value , d[value])\n",
    " \n",
    "# check if key exist\n",
    "print('xyz' in d)\n",
    " \n",
    "# delete the key-value pair\n",
    "del d['xyz']\n",
    " \n",
    "# check again \n",
    "print(\"xyz\" in d)"
   ]
  },
  {
   "cell_type": "code",
   "execution_count": 33,
   "metadata": {},
   "outputs": [
    {
     "name": "stdout",
     "output_type": "stream",
     "text": [
      "mohit@yahoo.com\n"
     ]
    }
   ],
   "source": [
    "email={'anita':'a.budhiraja@nielit.gov.in',\n",
    "       'simran': 'simran@gmail.com',\n",
    "       'aditi' : 'aditi@rediff.com',\n",
    "       'mohit' : 'mohit@yahoo.com',\n",
    "       'himmat' : 'himmat@yahoo.com'}\n",
    "\n",
    "email.keys()\n",
    "email.values()\n",
    "\n",
    "if 'mohit' in email:\n",
    "    print(email['mohit'])\n",
    "else:\n",
    "    email[\"mohit1@gmail.com\"]"
   ]
  },
  {
   "cell_type": "markdown",
   "metadata": {},
   "source": [
    "# Nesting of Lists and Dictionaries "
   ]
  },
  {
   "cell_type": "code",
   "execution_count": null,
   "metadata": {},
   "outputs": [],
   "source": [
    "person={}\n",
    "person['fname']='Sonia'\n",
    "person['lname']='Suri'\n",
    "person['age']=52\n",
    "person['children']=['anu','renu','anil']\n",
    "person['pets']={'dog': 'dubo','cat' : 'cutie'}\n",
    "person['friends']={'close':['anu','beena','hari','rahul'], 'not close':['meena','suman']}"
   ]
  },
  {
   "cell_type": "code",
   "execution_count": null,
   "metadata": {},
   "outputs": [],
   "source": [
    "print(person['friends']['not close'][1])"
   ]
  },
  {
   "cell_type": "code",
   "execution_count": null,
   "metadata": {},
   "outputs": [],
   "source": [
    "print(person['children'][-2])\n",
    "print(person['children'][0])"
   ]
  },
  {
   "cell_type": "code",
   "execution_count": null,
   "metadata": {},
   "outputs": [],
   "source": [
    "print(person['pets']['dog'])\n",
    "#print(person['pets'][0])\n",
    "print(person)\n",
    "print(person['friends']['close'][1])"
   ]
  },
  {
   "cell_type": "markdown",
   "metadata": {},
   "source": [
    "# Frequence of words using lists"
   ]
  },
  {
   "cell_type": "code",
   "execution_count": null,
   "metadata": {},
   "outputs": [],
   "source": [
    "def freq(str):\n",
    "     # break the string into list of words \n",
    "    str = str.split()         \n",
    "    str2 = []\n",
    "    for i in str:             \n",
    "        # checking for the duplicacy\n",
    "        if i not in str2:\n",
    "            # insert value in str2\n",
    "            str2.append(i) \n",
    "             \n",
    "    for i in range(0, len(str2)):\n",
    "        print( 'Frequency of', str2[i], 'is :', str.count(str2[i]))    \n",
    " \n",
    "def main():\n",
    "    str ='apple mango apple orange orange apple guava mango mango'\n",
    "    freq(str)                    \n",
    "\n",
    "main() "
   ]
  },
  {
   "cell_type": "markdown",
   "metadata": {},
   "source": [
    "# Looking for a key or a value in a dictionary "
   ]
  },
  {
   "cell_type": "code",
   "execution_count": 13,
   "metadata": {},
   "outputs": [
    {
     "name": "stdout",
     "output_type": "stream",
     "text": [
      "{'Name': 'Sunita', 'Age': 30, 'Marks': 80}\n",
      "Marks\n",
      "Sunita\n"
     ]
    }
   ],
   "source": [
    "#lookup operation\n",
    "'''\n",
    "given a dictionary d and a key k, find the  key\n",
    "'''\n",
    "def createdic():\n",
    "    d=dict()\n",
    "    d={'Name':'Sunita','Age': 30, 'Marks': 80}\n",
    "    return d\n",
    "\n",
    "def key_lookup(d,v):\n",
    "    for k in d:\n",
    "        if d[k] == v:\n",
    "            return k\n",
    "    print('Could not find')    \n",
    "        \n",
    "def value_lookup(d,v):\n",
    "    for k in d:\n",
    "        if k == v:\n",
    "            return d[k]\n",
    "    print('Could not find')  \n",
    "    \n",
    "def main():\n",
    "    d=createdic()\n",
    "    print(d)\n",
    "    #Pass value and return key\n",
    "    xx=key_lookup(d,80)\n",
    "    print (xx)\n",
    "    #Pass key and return value\n",
    "    name=value_lookup(d,'Name')\n",
    "    print(name)\n",
    "\n",
    "main()"
   ]
  },
  {
   "cell_type": "code",
   "execution_count": 35,
   "metadata": {},
   "outputs": [
    {
     "name": "stdout",
     "output_type": "stream",
     "text": [
      "cat tac act dog god \n"
     ]
    }
   ],
   "source": [
    "# Function to return all anagrams together\n",
    "def allAnagram(input):\n",
    "     \n",
    "    # empty dictionary which holds subsets \n",
    "    # of all anagrams together\n",
    "    dict = {}\n",
    " \n",
    "    # traverse list of strings\n",
    "    for strVal in input:\n",
    "         \n",
    "        # sorted(iterable) method accepts any \n",
    "        # iterable and rerturns list of items\n",
    "        # in ascending order\n",
    "        key = ''.join(sorted(strVal))\n",
    "         \n",
    "        # now check if key exist in dictionary\n",
    "        # or not. If yes then simply append the  \n",
    "        # strVal into the list of it's corresponding \n",
    "        # key. If not then map empty list onto\n",
    "        # key and then start appending values\n",
    "        if key in dict.keys():\n",
    "            dict[key].append(strVal)\n",
    "        else:\n",
    "            dict[key] = []\n",
    "            dict[key].append(strVal)\n",
    " \n",
    "     # traverse dictionary and concatenate values \n",
    "     # of keys together\n",
    "    output = \"\"\n",
    "    for key,value in dict.items():\n",
    "         output = output + ' '.join(value) + ' '\n",
    " \n",
    "    return output\n",
    " \n",
    "# Driver function\n",
    "if __name__ == \"__main__\":\n",
    "    input=['cat', 'dog', 'tac', 'god', 'act']\n",
    "    print( allAnagram(input))"
   ]
  },
  {
   "cell_type": "markdown",
   "metadata": {},
   "source": [
    "# Making frequence count : histogram"
   ]
  },
  {
   "cell_type": "code",
   "execution_count": 5,
   "metadata": {},
   "outputs": [
    {
     "name": "stdout",
     "output_type": "stream",
     "text": [
      "{'s': 3, 'u': 2, 'c': 2, 'e': 1, 'f': 1, 'l': 1}\n"
     ]
    }
   ],
   "source": [
    "\n",
    "#creating a dictionary that maps from frequencies to letters\n",
    "\n",
    "def histogram(mystr):\n",
    "    mydict=dict()\n",
    "    for char in mystr:\n",
    "        if char not in mydict:\n",
    "            mydict[char]=1\n",
    "        else:\n",
    "            mydict[char]=mydict[char]+1\n",
    "    return mydict\n",
    "\n",
    "def main():\n",
    "    #hist=histogram(\"successful\")\n",
    "    hist=histogram(\"successful\")\n",
    "    print(hist)\n",
    "    \n",
    "    \n",
    "main()"
   ]
  },
  {
   "cell_type": "markdown",
   "metadata": {},
   "source": [
    "# Inverting a dictionary"
   ]
  },
  {
   "cell_type": "code",
   "execution_count": 4,
   "metadata": {},
   "outputs": [
    {
     "name": "stdout",
     "output_type": "stream",
     "text": [
      "{'hello': 3, 'how': 1, 'are': 2, 'you': 1}\n",
      "{3: ['hello'], 1: ['how', 'you'], 2: ['are']}\n"
     ]
    }
   ],
   "source": [
    "def invert_dict(hist):\n",
    "    inverse=dict()\n",
    "    for key in hist:\n",
    "        val=hist[key]\n",
    "        if val not in inverse:\n",
    "            inverse[val] = [key]\n",
    "        else:\n",
    "            inverse[val].append(key)\n",
    "    return inverse\n",
    "\n",
    "def histogram(mystr):\n",
    "    mydict=dict()\n",
    "    for char in mystr:\n",
    "        if char not in mydict:\n",
    "            mydict[char]=1\n",
    "        else:\n",
    "            mydict[char]=mydict[char]+1\n",
    "    return mydict\n",
    "\n",
    "def main():\n",
    "    #hist=histogram(\"successful\")\n",
    "    hist=histogram(\"successful\")\n",
    "    print(hist)\n",
    "    inverse=invert_dict(hist)\n",
    "    print(inverse)\n",
    "    \n",
    "main()"
   ]
  },
  {
   "cell_type": "code",
   "execution_count": 15,
   "metadata": {},
   "outputs": [
    {
     "data": {
      "text/plain": [
       "array([0, 1, 2, 3])"
      ]
     },
     "execution_count": 15,
     "metadata": {},
     "output_type": "execute_result"
    }
   ],
   "source": [
    "import numpy as np\n",
    "a = np.array([0,1,2,3])\n",
    "a\n"
   ]
  },
  {
   "cell_type": "code",
   "execution_count": null,
   "metadata": {},
   "outputs": [],
   "source": [
    "\n",
    "\n",
    "Log in\n",
    "\n",
    "Create Account\n",
    "\n",
    "Share an Article\n",
    "\n",
    "Back to Tutorials\n",
    "Tutorials\n",
    "1\n",
    "17\n",
    "17\n",
    "June 28th, 2018\n",
    "PYTHON\n",
    "Scope of Variables in Python Tutorial\n",
    "In this tutorial, you will learn about Python's scope of variables, the global and nonlocal keywords, closures and the LEGB rule.\n",
    "If you're familiar with Python, or any other programming language, you'll certainly know that variables need to be defined before they can be used in your program. Depending on how and where it was defined, a variable will have to be accessed in different ways. Some variables are defined globally, others locally. This means that a variable referring to an entity in a certain part of a program, may refer to something different in another part of the program.\n",
    "\n",
    "In this tutorial, you will learn about:\n",
    "\n",
    "The true nature of variables\n",
    "The difference between defining a variable inside or outside a Python function\n",
    "global keyword\n",
    "nonlocal keyword\n",
    "Closures in Python\n",
    "LEGB rule\n",
    "If you want to learn more about programming in Python, you should definitely take a look at our free Intro to Python for Data Science course. It covers all the basics, from variables and calculations, to lists, functions and packages.\n",
    "\n",
    "\n",
    "What are variables, really?\n",
    "To understand the scope of variables, it is important to first learn about what variables really are. Essentially, they're references, or pointers, to an object in memory. When you assign a variable with = to an instance, you're binding (or mapping) the variable to that instance. Multiple variables can be bound to the same instance.\n",
    "\n",
    "Python keeps track of all these mappings with namespaces. These are containers for mapping names of variables to objects. You can think of them as dictionaries, containing name:object mappings. This allows access to objects by names you choose to assign to them.\n",
    "\n",
    "In the following example, i is first bound to the integer 5. In this case, i is the variable name, while the integer value 5 is the object.\n",
    "\n",
    "Then, j is set equal to i. This actually means that j is now bound to the same integer value as i, which is 5.\n",
    "\n",
    "If you then change i to be equal to 3, an inexperienced programmer might expect j to now also be equal to 3, but that is not the case. j is still bound (or pointing) to the integer value of 5. The only thing that changed is i, which is now bound to the integer value 3.\n",
    "\n",
    "i = 5\n",
    "j = i\n",
    "i = 3\n",
    "\n",
    "print(\"i: \" + str(i))\n",
    "print(\"j: \" + str(j))\n",
    "i: 3\n",
    "j: 5\n",
    "A namespace for the code above could look like {i:3, j:5}, and not {i:3, j:i} like you might expect.\n",
    "\n",
    "\n",
    "The difference between defining a variable inside or outside a Python function\n",
    "If you define a variable at the top of your script, it will be a global variable. This means that it is accessible from anywhere in your script, including from within a function. Take a look at the following example where a is defined globally.\n",
    "\n",
    "a = 5\n",
    "\n",
    "def function():\n",
    "    print(a)\n",
    "\n",
    "function()\n",
    "\n",
    "print(a)\n",
    "5\n",
    "5\n",
    "In the next example, a is defined globally as 5, but it's defined again as 3, within a function. If you print the value of a from within the function, the value that was defined locally will be printed. If you print a outside of the function, its globally defined value will be printed. The a defined in function() is literally sealed off from the outside world. It can only be accessed locally, from within the same function. So the two a's are different, depending on where you access them from.\n",
    "\n",
    "a = 5\n",
    "\n",
    "def function():\n",
    "    a = 3\n",
    "    print(a)\n",
    "\n",
    "function()\n",
    "\n",
    "print(a)\n",
    "3\n",
    "5\n",
    "This is all good and well, but what are the implications of this?\n",
    "\n",
    "Well, let's say you have an application that remembers a name, which can also be changed with a change_name() function. The name variable is defined globally, and locally within the function. As you can see, the function fails to change the global variable.\n",
    "\n",
    "name = 'Théo'\n",
    "\n",
    "def change_name(new_name):\n",
    "    name = new_name\n",
    "\n",
    "print(name)    \n",
    "\n",
    "change_name('Karlijn')\n",
    "\n",
    "print(name)\n",
    "Théo\n",
    "Théo\n",
    "Luckily, the global keyword can help.\n",
    "\n",
    "\n",
    "The global keyword\n",
    "With global, you're telling Python to use the globally defined variable instead of locally defining it. To use it, simply type global, followed by the variable name. In this case, the global variable name can now be changed by change_name().\n",
    "\n",
    "name = 'Théo'\n",
    "\n",
    "def change_name(new_name):\n",
    "    global name\n",
    "    name = new_name\n",
    "\n",
    "print(name)    \n",
    "\n",
    "\n",
    "\n",
    "\n",
    "\n",
    "\n",
    "\n",
    "\n"
   ]
  },
  {
   "cell_type": "code",
   "execution_count": 23,
   "metadata": {},
   "outputs": [
    {
     "name": "stdout",
     "output_type": "stream",
     "text": [
      "from inner: c\n",
      "from outer: b\n",
      "globally: a\n"
     ]
    }
   ],
   "source": [
    "\n",
    "#The nonlocal statement is useful in nested functions. It causes the variable to refer to the previously bound variable in the closest enclosing scope. In other words, it will prevent the variable from trying to bind locally first, and force it to go a level 'higher up'.\n",
    "\n",
    "x = \"a\"\n",
    "def outer():\n",
    "    x = \"b\"\n",
    "    def inner():\n",
    "        x = \"c\"\n",
    "        print(\"from inner:\", x)\n",
    "\n",
    "    inner()\n",
    "    print(\"from outer:\", x)\n",
    "\n",
    "outer()\n",
    "print(\"globally:\", x)\n"
   ]
  },
  {
   "cell_type": "code",
   "execution_count": 21,
   "metadata": {},
   "outputs": [
    {
     "name": "stdout",
     "output_type": "stream",
     "text": [
      "inner: c\n",
      "outer: c\n",
      "global: a\n"
     ]
    }
   ],
   "source": [
    "#With the nonlocal keyword, you're telling python that the x in the inner() function should actually refer to the x defined in the outer() function, which is one level higher. As you can see from the result, x in both inner() and outer() is defined as \"c\", because it could be accessed by inner().\n",
    "\n",
    "x = \"a\"\n",
    "def outer():\n",
    "    x = \"b\"\n",
    "    def inner():\n",
    "        nonlocal x\n",
    "        x = \"c\"\n",
    "        print(\"inner:\", x)\n",
    "\n",
    "    inner()\n",
    "    print(\"outer:\", x)\n",
    "\n",
    "outer()\n",
    "print(\"global:\", x)"
   ]
  },
  {
   "cell_type": "code",
   "execution_count": 26,
   "metadata": {},
   "outputs": [],
   "source": [
    "import io, os, sys\n",
    "from IPython import get_ipython\n",
    "from nbformat import read\n",
    "from IPython.core.interactiveshell import InteractiveShell"
   ]
  },
  {
   "cell_type": "code",
   "execution_count": null,
   "metadata": {},
   "outputs": [],
   "source": []
  }
 ],
 "metadata": {
  "kernelspec": {
   "display_name": "Python 3",
   "language": "python",
   "name": "python3"
  },
  "language_info": {
   "codemirror_mode": {
    "name": "ipython",
    "version": 3
   },
   "file_extension": ".py",
   "mimetype": "text/x-python",
   "name": "python",
   "nbconvert_exporter": "python",
   "pygments_lexer": "ipython3",
   "version": "3.6.4"
  }
 },
 "nbformat": 4,
 "nbformat_minor": 2
}
